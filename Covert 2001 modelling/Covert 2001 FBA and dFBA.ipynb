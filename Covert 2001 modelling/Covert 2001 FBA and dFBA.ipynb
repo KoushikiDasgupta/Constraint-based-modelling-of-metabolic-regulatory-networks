{
 "cells": [
  {
   "cell_type": "markdown",
   "metadata": {},
   "source": [
    "# FBA on core carbon model"
   ]
  },
  {
   "cell_type": "code",
   "execution_count": 7,
   "metadata": {},
   "outputs": [
    {
     "name": "stdout",
     "output_type": "stream",
     "text": [
      "A + ATP --> B\n",
      "B --> 2.0 ATP + C + 2.0 NADH\n",
      "2 ATP + C + 2 NADH --> B\n",
      "B --> F\n",
      "C --> G\n",
      "G --> 0.8 C + 2.0 NADH\n",
      "G --> 0.8 C + 2.0 NADH\n",
      "C --> 2.0 ATP + 3.0 D\n",
      "C + 4.0 NADH --> 3.0 E\n",
      "ATP + G + 2.0 NADH --> H\n",
      "H --> ATP + G + 2 NADH\n",
      "NADH + O2 --> ATP\n",
      " --> A\n",
      " --> A\n",
      " --> F\n",
      "D --> \n",
      "E --> \n",
      " --> H\n",
      " --> O2\n",
      "10.0 ATP + C + F + H --> \n"
     ]
    }
   ],
   "source": [
    "from cobra import Model,Reaction,Metabolite\n",
    "model = Model ('Core Carbon model')\n",
    "\n",
    "R1 = Reaction('R1')\n",
    "R2a = Reaction('R2a')\n",
    "R2b = Reaction('R2b')\n",
    "R3 = Reaction('R3')\n",
    "R4 = Reaction('R4')\n",
    "R5a = Reaction('R5a')\n",
    "R5b = Reaction('R5b')\n",
    "R6 = Reaction('R6')\n",
    "R7 = Reaction('R7')\n",
    "R8a = Reaction('R8a')\n",
    "R8b = Reaction('R8b')\n",
    "Rres = Reaction('Rres')\n",
    "Tc1 = Reaction('Tc1')\n",
    "Tc2 = Reaction('Tc2')\n",
    "Tf = Reaction('Tf')\n",
    "Td = Reaction('Td')\n",
    "Te = Reaction('Te')\n",
    "Th = Reaction('Th')\n",
    "To2 = Reaction('To2')\n",
    "Gro = Reaction('Gro')\n",
    "A = Metabolite('A',name = 'A',compartment ='c')\n",
    "ATP = Metabolite('ATP',name = 'ATP',compartment ='c')\n",
    "B = Metabolite('B',name = 'B',compartment ='c')\n",
    "NADH = Metabolite('NADH',name = 'NADH',compartment ='c')\n",
    "C = Metabolite('C',name = 'C',compartment ='c')\n",
    "F = Metabolite('F',name = 'F',compartment ='c')\n",
    "G = Metabolite('G',name = 'G',compartment ='c')\n",
    "D = Metabolite('D',name = 'D',compartment ='c')\n",
    "E = Metabolite('E',name = 'E',compartment ='c')\n",
    "H = Metabolite('H',name = 'H',compartment ='c')\n",
    "O2 = Metabolite('O2',name = 'O2',compartment ='c')\n",
    "R1.add_metabolites({A:-1.0,ATP:-1.0,B:1.0})\n",
    "R1.bounds = 0.,1000.\n",
    "print(R1.reaction)\n",
    "R2a.add_metabolites({B:-1.0,ATP:2.0,NADH:2.0,C:1.0})\n",
    "print(R2a.reaction)\n",
    "R2a.bounds = 0,1000.\n",
    "R2b.add_metabolites({C:-1,ATP:-2,NADH:-2,B:1})\n",
    "print(R2b.reaction)\n",
    "R2b.bounds = 0,1000.\n",
    "R3.add_metabolites({B:-1.0,F:1.0})\n",
    "print(R3.reaction)\n",
    "R3.bounds=0.,1000.\n",
    "R4.add_metabolites({C:-1.0,G:1.0})\n",
    "print(R4.reaction)\n",
    "R4.bounds=0.,1000.\n",
    "R5a.add_metabolites({G:-1.0,C:0.8,NADH:2.0})\n",
    "print(R5a.reaction)\n",
    "R5a.bounds=0.,1000.\n",
    "R5b.add_metabolites({G:-1.0,C:0.8,NADH:2.0})\n",
    "print(R5b.reaction)\n",
    "R5b.bounds=0.,1000.\n",
    "R6.add_metabolites({C:-1.0,ATP:2.0,D:3.0})\n",
    "print(R6.reaction)\n",
    "R6.bounds=0.,1000.\n",
    "R7.add_metabolites({C:-1.0,NADH:-4.0,E:3.0})\n",
    "print(R7.reaction)\n",
    "R7.bounds=0.,1000.\n",
    "R8a.add_metabolites({G:-1.0,ATP:-1.0,NADH:-2.0,H:1.0})\n",
    "print(R8a.reaction)\n",
    "R8a.bounds=0.,1000.\n",
    "R8b.add_metabolites({G:1,ATP:1,NADH:2,H:-1})\n",
    "print(R8b.reaction)\n",
    "R8b.bounds=0.,1000.\n",
    "Rres.add_metabolites({NADH:-1.0,O2:-1.0,ATP:1.0})\n",
    "Rres.bounds=0.,1000.\n",
    "print(Rres.reaction)\n",
    "Tc1.add_metabolites({A:1.0})\n",
    "print(Tc1.reaction)\n",
    "Tc1.bounds=0.,10.5\n",
    "Tc2.add_metabolites({A:1.0})\n",
    "Tc2.bounds=0.,10.5\n",
    "print(Tc2.reaction)\n",
    "Tf.add_metabolites({F:1.0})\n",
    "print(Tf.reaction)\n",
    "Tf.bounds=0.,5.\n",
    "Td.add_metabolites({D:-1.0})\n",
    "print(Td.reaction)\n",
    "Td.bounds=0.,12.\n",
    "Te.add_metabolites({E:-1.0})\n",
    "print(Te.reaction)\n",
    "Te.bounds=0.,12.\n",
    "Th.add_metabolites({H:1.0})\n",
    "print(Th.reaction)\n",
    "Th.bounds=0.,5.\n",
    "To2.add_metabolites({O2:1.0})\n",
    "print(To2.reaction)\n",
    "To2.bounds=0.,15.\n",
    "Gro.add_metabolites({C:-1.0,F:-1.0,H:-1.0,ATP:-10.0})\n",
    "print(Gro.reaction)\n",
    "Gro.bounds=0.,1000."
   ]
  },
  {
   "cell_type": "code",
   "execution_count": 8,
   "metadata": {},
   "outputs": [
    {
     "name": "stdout",
     "output_type": "stream",
     "text": [
      "20 reactions\n",
      "11 metabolites\n",
      "0 genes\n"
     ]
    }
   ],
   "source": [
    "model.add_reactions([R1,R2a,R2b,R3,R4,R5a,R5b,R6,R7,R8a,R8b,Rres,Gro,Tc1,Tc2,Tf,Td,Te,Th,To2])\n",
    "\n",
    "# The objects have been added to the model\n",
    "print(f'{len(model.reactions)} reactions')\n",
    "print(f'{len(model.metabolites)} metabolites')\n",
    "print(f'{len(model.genes)} genes')"
   ]
  },
  {
   "cell_type": "code",
   "execution_count": 9,
   "metadata": {},
   "outputs": [
    {
     "name": "stdout",
     "output_type": "stream",
     "text": [
      "1.0*Gro - 1.0*Gro_reverse_4df64\n",
      "max\n"
     ]
    }
   ],
   "source": [
    "model.objective = 'Gro'\n",
    "print(model.objective.expression)\n",
    "print(model.objective.direction)"
   ]
  },
  {
   "cell_type": "code",
   "execution_count": 10,
   "metadata": {},
   "outputs": [
    {
     "data": {
      "text/html": [
       "<strong><em>Optimal</em> solution with objective value 3.518</strong><br><div>\n",
       "<style scoped>\n",
       "    .dataframe tbody tr th:only-of-type {\n",
       "        vertical-align: middle;\n",
       "    }\n",
       "\n",
       "    .dataframe tbody tr th {\n",
       "        vertical-align: top;\n",
       "    }\n",
       "\n",
       "    .dataframe thead th {\n",
       "        text-align: right;\n",
       "    }\n",
       "</style>\n",
       "<table border=\"1\" class=\"dataframe\">\n",
       "  <thead>\n",
       "    <tr style=\"text-align: right;\">\n",
       "      <th></th>\n",
       "      <th>fluxes</th>\n",
       "      <th>reduced_costs</th>\n",
       "    </tr>\n",
       "  </thead>\n",
       "  <tbody>\n",
       "    <tr>\n",
       "      <th>R1</th>\n",
       "      <td>10.700000</td>\n",
       "      <td>0.000000e+00</td>\n",
       "    </tr>\n",
       "    <tr>\n",
       "      <th>R2a</th>\n",
       "      <td>10.700000</td>\n",
       "      <td>2.775558e-17</td>\n",
       "    </tr>\n",
       "    <tr>\n",
       "      <th>R2b</th>\n",
       "      <td>0.000000</td>\n",
       "      <td>-5.551115e-17</td>\n",
       "    </tr>\n",
       "    <tr>\n",
       "      <th>R3</th>\n",
       "      <td>0.000000</td>\n",
       "      <td>-2.181818e-01</td>\n",
       "    </tr>\n",
       "    <tr>\n",
       "      <th>R4</th>\n",
       "      <td>1.836364</td>\n",
       "      <td>-1.387779e-17</td>\n",
       "    </tr>\n",
       "    <tr>\n",
       "      <th>...</th>\n",
       "      <td>...</td>\n",
       "      <td>...</td>\n",
       "    </tr>\n",
       "    <tr>\n",
       "      <th>Tf</th>\n",
       "      <td>3.518182</td>\n",
       "      <td>0.000000e+00</td>\n",
       "    </tr>\n",
       "    <tr>\n",
       "      <th>Td</th>\n",
       "      <td>12.000000</td>\n",
       "      <td>2.060606e-01</td>\n",
       "    </tr>\n",
       "    <tr>\n",
       "      <th>Te</th>\n",
       "      <td>12.000000</td>\n",
       "      <td>8.484848e-02</td>\n",
       "    </tr>\n",
       "    <tr>\n",
       "      <th>Th</th>\n",
       "      <td>5.000000</td>\n",
       "      <td>-5.551115e-17</td>\n",
       "    </tr>\n",
       "    <tr>\n",
       "      <th>To2</th>\n",
       "      <td>15.000000</td>\n",
       "      <td>2.363636e-01</td>\n",
       "    </tr>\n",
       "  </tbody>\n",
       "</table>\n",
       "<p>20 rows × 2 columns</p>\n",
       "</div>"
      ],
      "text/plain": [
       "<Solution 3.518 at 0x24f3b6fa4c0>"
      ]
     },
     "execution_count": 10,
     "metadata": {},
     "output_type": "execute_result"
    }
   ],
   "source": [
    "model.optimize()"
   ]
  },
  {
   "cell_type": "code",
   "execution_count": 11,
   "metadata": {},
   "outputs": [
    {
     "data": {
      "text/html": [
       "<h3>Objective</h3><p>1.0 Gro = 3.5181818181818194</p><h4>Uptake</h4><table border=\"1\" class=\"dataframe\">\n",
       "  <thead>\n",
       "    <tr style=\"text-align: right;\">\n",
       "      <th>Metabolite</th>\n",
       "      <th>Reaction</th>\n",
       "      <th>Flux</th>\n",
       "      <th>C-Number</th>\n",
       "      <th>C-Flux</th>\n",
       "    </tr>\n",
       "  </thead>\n",
       "  <tbody>\n",
       "    <tr>\n",
       "      <td>A</td>\n",
       "      <td>Tc1</td>\n",
       "      <td>10.5</td>\n",
       "      <td>0</td>\n",
       "      <td>0.00%</td>\n",
       "    </tr>\n",
       "    <tr>\n",
       "      <td>A</td>\n",
       "      <td>Tc2</td>\n",
       "      <td>0.2</td>\n",
       "      <td>0</td>\n",
       "      <td>0.00%</td>\n",
       "    </tr>\n",
       "    <tr>\n",
       "      <td>F</td>\n",
       "      <td>Tf</td>\n",
       "      <td>3.518</td>\n",
       "      <td>0</td>\n",
       "      <td>0.00%</td>\n",
       "    </tr>\n",
       "    <tr>\n",
       "      <td>H</td>\n",
       "      <td>Th</td>\n",
       "      <td>5</td>\n",
       "      <td>0</td>\n",
       "      <td>0.00%</td>\n",
       "    </tr>\n",
       "    <tr>\n",
       "      <td>O2</td>\n",
       "      <td>To2</td>\n",
       "      <td>15</td>\n",
       "      <td>0</td>\n",
       "      <td>0.00%</td>\n",
       "    </tr>\n",
       "  </tbody>\n",
       "</table><h4>Secretion</h4><table border=\"1\" class=\"dataframe\">\n",
       "  <thead>\n",
       "    <tr style=\"text-align: right;\">\n",
       "      <th>Metabolite</th>\n",
       "      <th>Reaction</th>\n",
       "      <th>Flux</th>\n",
       "      <th>C-Number</th>\n",
       "      <th>C-Flux</th>\n",
       "    </tr>\n",
       "  </thead>\n",
       "  <tbody>\n",
       "    <tr>\n",
       "      <td>D</td>\n",
       "      <td>Td</td>\n",
       "      <td>-12</td>\n",
       "      <td>0</td>\n",
       "      <td>0.00%</td>\n",
       "    </tr>\n",
       "    <tr>\n",
       "      <td>E</td>\n",
       "      <td>Te</td>\n",
       "      <td>-12</td>\n",
       "      <td>0</td>\n",
       "      <td>0.00%</td>\n",
       "    </tr>\n",
       "  </tbody>\n",
       "</table>"
      ],
      "text/plain": [
       "<cobra.summary.model_summary.ModelSummary at 0x24f3b6fa850>"
      ]
     },
     "execution_count": 11,
     "metadata": {},
     "output_type": "execute_result"
    }
   ],
   "source": [
    "model.summary()"
   ]
  },
  {
   "cell_type": "code",
   "execution_count": 12,
   "metadata": {},
   "outputs": [
    {
     "data": {
      "text/html": [
       "<div>\n",
       "<style scoped>\n",
       "    .dataframe tbody tr th:only-of-type {\n",
       "        vertical-align: middle;\n",
       "    }\n",
       "\n",
       "    .dataframe tbody tr th {\n",
       "        vertical-align: top;\n",
       "    }\n",
       "\n",
       "    .dataframe thead th {\n",
       "        text-align: right;\n",
       "    }\n",
       "</style>\n",
       "<table border=\"1\" class=\"dataframe\">\n",
       "  <thead>\n",
       "    <tr style=\"text-align: right;\">\n",
       "      <th></th>\n",
       "      <th>minimum</th>\n",
       "      <th>maximum</th>\n",
       "    </tr>\n",
       "  </thead>\n",
       "  <tbody>\n",
       "    <tr>\n",
       "      <th>R1</th>\n",
       "      <td>10.700000</td>\n",
       "      <td>1.570000e+01</td>\n",
       "    </tr>\n",
       "    <tr>\n",
       "      <th>R2a</th>\n",
       "      <td>10.700000</td>\n",
       "      <td>1.000000e+03</td>\n",
       "    </tr>\n",
       "    <tr>\n",
       "      <th>R2b</th>\n",
       "      <td>0.000000</td>\n",
       "      <td>9.893000e+02</td>\n",
       "    </tr>\n",
       "    <tr>\n",
       "      <th>R3</th>\n",
       "      <td>0.000000</td>\n",
       "      <td>-4.172588e-14</td>\n",
       "    </tr>\n",
       "    <tr>\n",
       "      <th>R4</th>\n",
       "      <td>1.836364</td>\n",
       "      <td>6.836364e+00</td>\n",
       "    </tr>\n",
       "    <tr>\n",
       "      <th>R5a</th>\n",
       "      <td>0.000000</td>\n",
       "      <td>3.318182e+00</td>\n",
       "    </tr>\n",
       "    <tr>\n",
       "      <th>R5b</th>\n",
       "      <td>0.000000</td>\n",
       "      <td>3.318182e+00</td>\n",
       "    </tr>\n",
       "    <tr>\n",
       "      <th>R6</th>\n",
       "      <td>4.000000</td>\n",
       "      <td>4.000000e+00</td>\n",
       "    </tr>\n",
       "    <tr>\n",
       "      <th>R7</th>\n",
       "      <td>4.000000</td>\n",
       "      <td>4.000000e+00</td>\n",
       "    </tr>\n",
       "    <tr>\n",
       "      <th>R8a</th>\n",
       "      <td>0.000000</td>\n",
       "      <td>1.000000e+03</td>\n",
       "    </tr>\n",
       "    <tr>\n",
       "      <th>R8b</th>\n",
       "      <td>0.000000</td>\n",
       "      <td>1.000000e+03</td>\n",
       "    </tr>\n",
       "    <tr>\n",
       "      <th>Rres</th>\n",
       "      <td>15.000000</td>\n",
       "      <td>1.500000e+01</td>\n",
       "    </tr>\n",
       "    <tr>\n",
       "      <th>Gro</th>\n",
       "      <td>3.518182</td>\n",
       "      <td>3.518182e+00</td>\n",
       "    </tr>\n",
       "    <tr>\n",
       "      <th>Tc1</th>\n",
       "      <td>0.200000</td>\n",
       "      <td>1.050000e+01</td>\n",
       "    </tr>\n",
       "    <tr>\n",
       "      <th>Tc2</th>\n",
       "      <td>0.200000</td>\n",
       "      <td>1.050000e+01</td>\n",
       "    </tr>\n",
       "    <tr>\n",
       "      <th>Tf</th>\n",
       "      <td>3.518182</td>\n",
       "      <td>3.518182e+00</td>\n",
       "    </tr>\n",
       "    <tr>\n",
       "      <th>Td</th>\n",
       "      <td>12.000000</td>\n",
       "      <td>1.200000e+01</td>\n",
       "    </tr>\n",
       "    <tr>\n",
       "      <th>Te</th>\n",
       "      <td>12.000000</td>\n",
       "      <td>1.200000e+01</td>\n",
       "    </tr>\n",
       "    <tr>\n",
       "      <th>Th</th>\n",
       "      <td>0.000000</td>\n",
       "      <td>5.000000e+00</td>\n",
       "    </tr>\n",
       "    <tr>\n",
       "      <th>To2</th>\n",
       "      <td>15.000000</td>\n",
       "      <td>1.500000e+01</td>\n",
       "    </tr>\n",
       "  </tbody>\n",
       "</table>\n",
       "</div>"
      ],
      "text/plain": [
       "        minimum       maximum\n",
       "R1    10.700000  1.570000e+01\n",
       "R2a   10.700000  1.000000e+03\n",
       "R2b    0.000000  9.893000e+02\n",
       "R3     0.000000 -4.172588e-14\n",
       "R4     1.836364  6.836364e+00\n",
       "R5a    0.000000  3.318182e+00\n",
       "R5b    0.000000  3.318182e+00\n",
       "R6     4.000000  4.000000e+00\n",
       "R7     4.000000  4.000000e+00\n",
       "R8a    0.000000  1.000000e+03\n",
       "R8b    0.000000  1.000000e+03\n",
       "Rres  15.000000  1.500000e+01\n",
       "Gro    3.518182  3.518182e+00\n",
       "Tc1    0.200000  1.050000e+01\n",
       "Tc2    0.200000  1.050000e+01\n",
       "Tf     3.518182  3.518182e+00\n",
       "Td    12.000000  1.200000e+01\n",
       "Te    12.000000  1.200000e+01\n",
       "Th     0.000000  5.000000e+00\n",
       "To2   15.000000  1.500000e+01"
      ]
     },
     "execution_count": 12,
     "metadata": {},
     "output_type": "execute_result"
    }
   ],
   "source": [
    "from cobra.flux_analysis import flux_variability_analysis\n",
    "flux_variability_analysis(model, model.reactions)"
   ]
  },
  {
   "cell_type": "markdown",
   "metadata": {},
   "source": [
    "# dFBA"
   ]
  },
  {
   "cell_type": "code",
   "execution_count": 51,
   "metadata": {},
   "outputs": [
    {
     "name": "stdout",
     "output_type": "stream",
     "text": [
      "A + ATP --> B\n",
      "B --> 2 ATP + C + 2 NADH\n",
      "2 ATP + C + 2 NADH --> B\n",
      "B --> F\n",
      "C --> G\n",
      "G --> 0.8 C + 2 NADH\n",
      "G --> 0.8 C + 2 NADH\n",
      "C --> 2 ATP + 3 D\n",
      "C + 4 NADH --> 3 E\n",
      "ATP + G + 2 NADH --> H\n",
      "H --> ATP + G + 2 NADH\n",
      "NADH + O2 --> ATP\n",
      "Carbon1 --> A\n",
      "Carbon2 --> A\n",
      "Fext --> F\n",
      "D --> Dext\n",
      "E --> Eext\n",
      "Hext --> H\n",
      "Oxygen --> O2\n",
      "10 ATP + C + F + H --> \n"
     ]
    }
   ],
   "source": [
    "from cobra import Model,Reaction,Metabolite\n",
    "model = Model ('Core Carbon model')\n",
    "\n",
    "R1 = Reaction('R1')\n",
    "R2a = Reaction('R2a')\n",
    "R2b = Reaction('R2b')\n",
    "R3 = Reaction('R3')\n",
    "R4 = Reaction('R4')\n",
    "R5a = Reaction('R5a')\n",
    "R5b = Reaction('R5b')\n",
    "R6 = Reaction('R6')\n",
    "R7 = Reaction('R7')\n",
    "R8a = Reaction('R8a')\n",
    "R8b = Reaction('R8b')\n",
    "Rres = Reaction('Rres')\n",
    "Tc1 = Reaction('Tc1')\n",
    "Tc2 = Reaction('Tc2')\n",
    "Tf = Reaction('Tf')\n",
    "Td = Reaction('Td')\n",
    "Te = Reaction('Te')\n",
    "Th = Reaction('Th')\n",
    "To2 = Reaction('To2')\n",
    "Gro = Reaction('Gro')\n",
    "A = Metabolite('A',name = 'A',compartment='c')\n",
    "ATP = Metabolite('ATP',name = 'ATP',compartment='c')\n",
    "B = Metabolite('B',name = 'B',compartment='c')\n",
    "NADH = Metabolite('NADH',name = 'NADH',compartment='c')\n",
    "C = Metabolite('C',name = 'C',compartment='c')\n",
    "F = Metabolite('F',name = 'F',compartment='c')\n",
    "G = Metabolite('G',name = 'G',compartment='c')\n",
    "D = Metabolite('D',name = 'D',compartment='c')\n",
    "E = Metabolite('E',name = 'E',compartment='c')\n",
    "H = Metabolite('H',name = 'H',compartment='c')\n",
    "O2 = Metabolite('O2',name = 'O2',compartment='c')\n",
    "Carbon1 = Metabolite('Carbon1',name = 'A',compartment='e')\n",
    "Carbon2 = Metabolite('Carbon2',name = 'A',compartment='e')\n",
    "Fext = Metabolite('Fext',name = 'F',compartment='e')\n",
    "Dext = Metabolite('Dext',name = 'D',compartment='e')\n",
    "Eext = Metabolite('Eext',name = 'E',compartment='e')\n",
    "Hext = Metabolite('Hext',name = 'H',compartment='e')\n",
    "Oxygen = Metabolite('Oxygen',name = 'O2',compartment='e')\n",
    "R1.add_metabolites({A:-1,ATP:-1,B:1})\n",
    "print(R1.reaction)\n",
    "R1.bounds = 0.,1000.\n",
    "R2a.add_metabolites({B:-1,ATP:2,NADH:2,C:1})\n",
    "print(R2a.reaction)\n",
    "R2a.bounds = 0.,1000.\n",
    "R2b.add_metabolites({C:-1,ATP:-2,NADH:-2,B:1})\n",
    "print(R2b.reaction)\n",
    "R2b.bounds = 0.,1000.\n",
    "R3.add_metabolites({B:-1,F:1})\n",
    "print(R3.reaction)\n",
    "R3.bounds = 0.,1000.\n",
    "R4.add_metabolites({C:-1,G:1})\n",
    "print(R4.reaction)\n",
    "R4.bounds = 0.,1000.\n",
    "R5a.add_metabolites({G:-1,C:0.8,NADH:2})\n",
    "print(R5a.reaction)\n",
    "R5a.bounds = 0.,1000.\n",
    "R5b.add_metabolites({G:-1,C:0.8,NADH:2})\n",
    "print(R5b.reaction)\n",
    "R5b.bounds = 0.,1000.\n",
    "R6.add_metabolites({C:-1,ATP:2,D:3})\n",
    "print(R6.reaction)\n",
    "R6.bounds = 0.,1000.\n",
    "R7.add_metabolites({C:-1,NADH:-4,E:3})\n",
    "print(R7.reaction)\n",
    "R7.bounds = 0.,1000.\n",
    "R8a.add_metabolites({G:-1,ATP:-1,NADH:-2,H:1})\n",
    "print(R8a.reaction)\n",
    "R8a.bounds = 0.,1000.\n",
    "R8b.add_metabolites({G:1,ATP:1,NADH:2,H:-1})\n",
    "print(R8b.reaction)\n",
    "R8b.bounds = 0.,1000.\n",
    "Rres.add_metabolites({NADH:-1,O2:-1,ATP:1})\n",
    "print(Rres.reaction)\n",
    "Rres.bounds = 0.,1000.\n",
    "Tc1.add_metabolites({Carbon1:-1,A:1})\n",
    "print(Tc1.reaction)\n",
    "Tc1.bounds = 0.,10.5\n",
    "Tc2.add_metabolites({Carbon2:-1,A:1})\n",
    "print(Tc2.reaction)\n",
    "Tc2.bounds = 0.,10.5\n",
    "Tf.add_metabolites({Fext:-1,F:1})\n",
    "print(Tf.reaction)\n",
    "Tf.bounds = 0.,5.\n",
    "Td.add_metabolites({D:-1,Dext:1})\n",
    "print(Td.reaction)\n",
    "Td.bounds = 0.,12.\n",
    "Te.add_metabolites({E:-1,Eext:1})\n",
    "print(Te.reaction)\n",
    "Te.bounds = 0.,12.\n",
    "Th.add_metabolites({Hext:-1,H:1})\n",
    "print(Th.reaction)\n",
    "Th.bounds = 0.,5.\n",
    "To2.add_metabolites({Oxygen:-1,O2:1})\n",
    "print(To2.reaction)\n",
    "To2.bounds = 0.,15.\n",
    "Gro.add_metabolites({C:-1,F:-1,H:-1,ATP:-10})\n",
    "print(Gro.reaction)\n",
    "Gro.bounds = 0.,1000."
   ]
  },
  {
   "cell_type": "code",
   "execution_count": 52,
   "metadata": {},
   "outputs": [
    {
     "name": "stdout",
     "output_type": "stream",
     "text": [
      "20 reactions\n",
      "18 metabolites\n",
      "0 genes\n",
      "1.0*Gro - 1.0*Gro_reverse_4df64\n",
      "max\n"
     ]
    }
   ],
   "source": [
    "model.add_reactions([R1,R2a,R2b,R3,R4,R5a,R5b,R6,R7,R8a,R8b,Rres,Gro,Tc1,Tc2,Tf,Td,Te,Th,To2])\n",
    "\n",
    "# The objects have been added to the model\n",
    "print(f'{len(model.reactions)} reactions')\n",
    "print(f'{len(model.metabolites)} metabolites')\n",
    "print(f'{len(model.genes)} genes')\n",
    "\n",
    "model.objective = 'Gro'\n",
    "print(model.objective.expression)\n",
    "print(model.objective.direction)"
   ]
  },
  {
   "cell_type": "code",
   "execution_count": 53,
   "metadata": {},
   "outputs": [
    {
     "data": {
      "text/html": [
       "\n",
       "        <table>\n",
       "            <tr>\n",
       "                <td><strong>Reaction identifier</strong></td><td>EX_Eext</td>\n",
       "            </tr><tr>\n",
       "                <td><strong>Name</strong></td><td>E exchange</td>\n",
       "            </tr><tr>\n",
       "                <td><strong>Memory address</strong></td>\n",
       "                <td>0x024f44caf2e0</td>\n",
       "            </tr><tr>\n",
       "                <td><strong>Stoichiometry</strong></td>\n",
       "                <td>\n",
       "                    <p style='text-align:right'>Eext <=></p>\n",
       "                    <p style='text-align:right'>E <=></p>\n",
       "                </td>\n",
       "            </tr><tr>\n",
       "                <td><strong>GPR</strong></td><td></td>\n",
       "            </tr><tr>\n",
       "                <td><strong>Lower bound</strong></td><td>-1000.0</td>\n",
       "            </tr><tr>\n",
       "                <td><strong>Upper bound</strong></td><td>1000.0</td>\n",
       "            </tr>\n",
       "        </table>\n",
       "        "
      ],
      "text/plain": [
       "<Reaction EX_Eext at 0x24f44caf2e0>"
      ]
     },
     "execution_count": 53,
     "metadata": {},
     "output_type": "execute_result"
    }
   ],
   "source": [
    "##Adding exchange reactions for Carbon1,Carbon2,Fext and Hext and Oxygen in the growth medium\n",
    "model.add_boundary(model.metabolites.get_by_id(\"Carbon1\"), type=\"exchange\")\n",
    "model.add_boundary(model.metabolites.get_by_id(\"Carbon2\"), type=\"exchange\")\n",
    "model.add_boundary(model.metabolites.get_by_id(\"Oxygen\"), type=\"exchange\")\n",
    "model.add_boundary(model.metabolites.get_by_id(\"Fext\"), type=\"exchange\")\n",
    "model.add_boundary(model.metabolites.get_by_id(\"Hext\"), type=\"exchange\")\n",
    "model.add_boundary(model.metabolites.get_by_id(\"Dext\"), type=\"exchange\")\n",
    "model.add_boundary(model.metabolites.get_by_id(\"Eext\"), type=\"exchange\")"
   ]
  },
  {
   "cell_type": "code",
   "execution_count": 54,
   "metadata": {},
   "outputs": [
    {
     "data": {
      "text/html": [
       "<strong><em>Optimal</em> solution with objective value 3.518</strong><br><div>\n",
       "<style scoped>\n",
       "    .dataframe tbody tr th:only-of-type {\n",
       "        vertical-align: middle;\n",
       "    }\n",
       "\n",
       "    .dataframe tbody tr th {\n",
       "        vertical-align: top;\n",
       "    }\n",
       "\n",
       "    .dataframe thead th {\n",
       "        text-align: right;\n",
       "    }\n",
       "</style>\n",
       "<table border=\"1\" class=\"dataframe\">\n",
       "  <thead>\n",
       "    <tr style=\"text-align: right;\">\n",
       "      <th></th>\n",
       "      <th>fluxes</th>\n",
       "      <th>reduced_costs</th>\n",
       "    </tr>\n",
       "  </thead>\n",
       "  <tbody>\n",
       "    <tr>\n",
       "      <th>R1</th>\n",
       "      <td>10.700000</td>\n",
       "      <td>0.000000e+00</td>\n",
       "    </tr>\n",
       "    <tr>\n",
       "      <th>R2a</th>\n",
       "      <td>10.700000</td>\n",
       "      <td>0.000000e+00</td>\n",
       "    </tr>\n",
       "    <tr>\n",
       "      <th>R2b</th>\n",
       "      <td>0.000000</td>\n",
       "      <td>0.000000e+00</td>\n",
       "    </tr>\n",
       "    <tr>\n",
       "      <th>R3</th>\n",
       "      <td>0.000000</td>\n",
       "      <td>-2.181818e-01</td>\n",
       "    </tr>\n",
       "    <tr>\n",
       "      <th>R4</th>\n",
       "      <td>1.836364</td>\n",
       "      <td>1.387779e-17</td>\n",
       "    </tr>\n",
       "    <tr>\n",
       "      <th>...</th>\n",
       "      <td>...</td>\n",
       "      <td>...</td>\n",
       "    </tr>\n",
       "    <tr>\n",
       "      <th>EX_Oxygen</th>\n",
       "      <td>-15.000000</td>\n",
       "      <td>0.000000e+00</td>\n",
       "    </tr>\n",
       "    <tr>\n",
       "      <th>EX_Fext</th>\n",
       "      <td>-3.518182</td>\n",
       "      <td>-0.000000e+00</td>\n",
       "    </tr>\n",
       "    <tr>\n",
       "      <th>EX_Hext</th>\n",
       "      <td>-5.000000</td>\n",
       "      <td>0.000000e+00</td>\n",
       "    </tr>\n",
       "    <tr>\n",
       "      <th>EX_Dext</th>\n",
       "      <td>12.000000</td>\n",
       "      <td>0.000000e+00</td>\n",
       "    </tr>\n",
       "    <tr>\n",
       "      <th>EX_Eext</th>\n",
       "      <td>12.000000</td>\n",
       "      <td>-3.469447e-18</td>\n",
       "    </tr>\n",
       "  </tbody>\n",
       "</table>\n",
       "<p>27 rows × 2 columns</p>\n",
       "</div>"
      ],
      "text/plain": [
       "<Solution 3.518 at 0x24f44cf7640>"
      ]
     },
     "execution_count": 54,
     "metadata": {},
     "output_type": "execute_result"
    }
   ],
   "source": [
    "model.optimize()"
   ]
  },
  {
   "cell_type": "code",
   "execution_count": 55,
   "metadata": {},
   "outputs": [
    {
     "data": {
      "text/plain": [
       "{'EX_Carbon1': 1000.0,\n",
       " 'EX_Carbon2': 1000.0,\n",
       " 'EX_Oxygen': 1000.0,\n",
       " 'EX_Fext': 1000.0,\n",
       " 'EX_Hext': 1000.0,\n",
       " 'EX_Dext': 1000.0,\n",
       " 'EX_Eext': 1000.0}"
      ]
     },
     "execution_count": 55,
     "metadata": {},
     "output_type": "execute_result"
    }
   ],
   "source": [
    "model.medium"
   ]
  },
  {
   "cell_type": "code",
   "execution_count": 56,
   "metadata": {},
   "outputs": [
    {
     "data": {
      "text/html": [
       "\n",
       "        <table>\n",
       "            <tr>\n",
       "                <td><strong>Reaction identifier</strong></td><td>EX_Carbon1</td>\n",
       "            </tr><tr>\n",
       "                <td><strong>Name</strong></td><td>A exchange</td>\n",
       "            </tr><tr>\n",
       "                <td><strong>Memory address</strong></td>\n",
       "                <td>0x024f4736d520</td>\n",
       "            </tr><tr>\n",
       "                <td><strong>Stoichiometry</strong></td>\n",
       "                <td>\n",
       "                    <p style='text-align:right'>Carbon1 <=></p>\n",
       "                    <p style='text-align:right'>A <=></p>\n",
       "                </td>\n",
       "            </tr><tr>\n",
       "                <td><strong>GPR</strong></td><td></td>\n",
       "            </tr><tr>\n",
       "                <td><strong>Lower bound</strong></td><td>-1000.0</td>\n",
       "            </tr><tr>\n",
       "                <td><strong>Upper bound</strong></td><td>1000.0</td>\n",
       "            </tr>\n",
       "        </table>\n",
       "        "
      ],
      "text/plain": [
       "<Reaction EX_Carbon1 at 0x24f4736d520>"
      ]
     },
     "execution_count": 56,
     "metadata": {},
     "output_type": "execute_result"
    }
   ],
   "source": [
    "model.reactions.EX_Carbon1"
   ]
  },
  {
   "cell_type": "markdown",
   "metadata": {},
   "source": [
    "# Diauxie on two carbon sources"
   ]
  },
  {
   "cell_type": "code",
   "execution_count": 57,
   "metadata": {},
   "outputs": [
    {
     "data": {
      "text/plain": [
       "{'EX_Carbon1': 10, 'EX_Carbon2': 10.0, 'EX_Oxygen': 1000.0}"
      ]
     },
     "execution_count": 57,
     "metadata": {},
     "output_type": "execute_result"
    }
   ],
   "source": [
    "medium = model.medium\n",
    "medium[\"EX_Carbon1\"] = 10\n",
    "medium[\"EX_Carbon2\"] = 10.0\n",
    "medium[\"EX_Fext\"] = 0.0\n",
    "medium[\"EX_Hext\"] = 0.0\n",
    "medium[\"EX_Dext\"] = 0.0\n",
    "medium[\"EX_Eext\"] = 0.0\n",
    "model.medium = medium\n",
    "\n",
    "model.medium"
   ]
  },
  {
   "cell_type": "code",
   "execution_count": 58,
   "metadata": {},
   "outputs": [],
   "source": [
    "import numpy as np\n",
    "from tqdm import tqdm\n",
    "from scipy.integrate import solve_ivp\n",
    "import matplotlib.pyplot as plt\n",
    "import cobra\n",
    "%matplotlib inline\n",
    "\n",
    "def add_dynamic_bounds(model,y):\n",
    "    biomass, carbon1,carbon2 = y\n",
    "    carbon1_max_import = -carbon1\n",
    "    carbon2_max_import = -carbon2\n",
    "    model.reactions.EX_Carbon1.lower_bound = carbon1_max_import\n",
    "    model.reactions.EX_Carbon2.lower_bound = carbon2_max_import\n",
    "    \n",
    "def dynamic_system(t,y):\n",
    "    biomass, carbon1,carbon2 = y\n",
    "    with model:\n",
    "        add_dynamic_bounds(model,y)\n",
    "        cobra.util.add_lp_feasibility(model)\n",
    "        feasibility = cobra.util.fix_objective_as_constraint(model)\n",
    "        lex_constraints = cobra.util.add_lexicographic_constraints(\n",
    "            model, ['Gro', 'EX_Carbon1','EX_Carbon2'], ['max', 'max','max'])\n",
    "\n",
    "    # Since the calculated fluxes are specific rates, we multiply them by the\n",
    "    # biomass concentration to get the bulk exchange rates.\n",
    "    fluxes = lex_constraints.values\n",
    "    fluxes *= biomass\n",
    "\n",
    "    # This implementation is **not** efficient, so I display the current\n",
    "    # simulation time using a progress bar.\n",
    "    if dynamic_system.pbar is not None:\n",
    "        dynamic_system.pbar.update(1)\n",
    "        dynamic_system.pbar.set_description('t = {:.3f}'.format(t))\n",
    "\n",
    "    return fluxes\n",
    "\n",
    "dynamic_system.pbar = None\n",
    "\n",
    "\n",
    "def infeasible_event(t, y):\n",
    "    \"\"\"\n",
    "    Determine solution feasibility.\n",
    "\n",
    "    Avoiding infeasible solutions is handled by solve_ivp's built-in event detection.\n",
    "    This function re-solves the LP to determine whether or not the solution is feasible\n",
    "    (and if not, how far it is from feasibility). When the sign of this function changes\n",
    "    from -epsilon to positive, we know the solution is no longer feasible.\n",
    "\n",
    "    \"\"\"\n",
    "\n",
    "    with model:\n",
    "\n",
    "        add_dynamic_bounds(model, y)\n",
    "\n",
    "        cobra.util.add_lp_feasibility(model)\n",
    "        feasibility = cobra.util.fix_objective_as_constraint(model)\n",
    "\n",
    "    return feasibility - infeasible_event.epsilon\n",
    "\n",
    "infeasible_event.epsilon = 1E-6\n",
    "infeasible_event.direction = 1\n",
    "infeasible_event.terminal = True "
   ]
  },
  {
   "cell_type": "code",
   "execution_count": 59,
   "metadata": {},
   "outputs": [
    {
     "name": "stderr",
     "output_type": "stream",
     "text": [
      "t = 15.000: : 632it [00:10, 61.32it/s]\n"
     ]
    }
   ],
   "source": [
    "ts = np.linspace(0, 15, 100000)  # Desired integration resolution and interval\n",
    "y0 = [0.1,10,10]\n",
    "\n",
    "with tqdm() as pbar:\n",
    "    dynamic_system.pbar = pbar\n",
    "\n",
    "    sol = solve_ivp(\n",
    "        fun=dynamic_system,\n",
    "        events=[infeasible_event],\n",
    "        t_span=(ts.min(), ts.max()),\n",
    "        y0=y0,\n",
    "        t_eval=ts,\n",
    "        rtol=1e-6,\n",
    "        atol=1e-8,\n",
    "        method='BDF'\n",
    "    )"
   ]
  },
  {
   "cell_type": "code",
   "execution_count": 60,
   "metadata": {},
   "outputs": [
    {
     "data": {
      "text/plain": [
       "  message: 'The solver successfully reached the end of the integration interval.'\n",
       "     nfev: 615\n",
       "     njev: 4\n",
       "      nlu: 45\n",
       "      sol: None\n",
       "   status: 0\n",
       "  success: True\n",
       "        t: array([0.000000e+00, 1.500015e-04, 3.000030e-04, ..., 1.499970e+01,\n",
       "       1.499985e+01, 1.500000e+01])\n",
       " t_events: [array([], dtype=float64)]\n",
       "        y: array([[1.00000000e-01, 1.00047616e-01, 1.00095267e-01, ...,\n",
       "        4.73616221e+00, 4.73616221e+00, 4.73616221e+00],\n",
       "       [1.00000000e+01, 9.99987634e+00, 9.99975259e+00, ...,\n",
       "        1.56770441e-07, 1.56770316e-07, 1.56770191e-07],\n",
       "       [1.00000000e+01, 9.99984990e+00, 9.99969968e+00, ...,\n",
       "        1.55403474e-07, 1.55403350e-07, 1.55403226e-07]])\n",
       " y_events: [array([], dtype=float64)]"
      ]
     },
     "execution_count": 60,
     "metadata": {},
     "output_type": "execute_result"
    }
   ],
   "source": [
    "sol"
   ]
  },
  {
   "cell_type": "code",
   "execution_count": 82,
   "metadata": {},
   "outputs": [
    {
     "data": {
      "image/png": "[encoded data removed]",
      "text/plain": [
       "<Figure size 432x288 with 1 Axes>"
      ]
     },
     "metadata": {
      "needs_background": "light"
     },
     "output_type": "display_data"
    }
   ],
   "source": [
    "#Diauxie on two carbon sources\n",
    "import matplotlib.pyplot as plt\n",
    "plt.plot(sol.t, sol.y.T[:, 0],label='Biomass',color='b')\n",
    "plt.plot(sol.t, sol.y.T[:, 1],label='Carbon1',color='r',linestyle = 'solid',linewidth = 1)\n",
    "plt.plot(sol.t, sol.y.T[:, 2],label='Carbon2',color='g',linestyle='dotted',linewidth = 2)\n",
    "plt.xlabel('Time')\n",
    "plt.ylabel('Concentration')\n",
    "plt.legend()\n",
    "plt.title('Diauxie on two carbon sources')\n",
    "plt.show()\n"
   ]
  },
  {
   "cell_type": "markdown",
   "metadata": {},
   "source": [
    "# Growth on Carbon and Amino acid with carbon in excess"
   ]
  },
  {
   "cell_type": "code",
   "execution_count": 84,
   "metadata": {},
   "outputs": [
    {
     "data": {
      "text/plain": [
       "{'EX_Carbon2': 10.0, 'EX_Oxygen': 1000.0, 'EX_Hext': 2}"
      ]
     },
     "execution_count": 84,
     "metadata": {},
     "output_type": "execute_result"
    }
   ],
   "source": [
    "medium = model.medium\n",
    "medium[\"EX_Carbon1\"] = 0\n",
    "medium[\"EX_Carbon2\"] = 10.0\n",
    "medium[\"EX_Fext\"] = 0.0\n",
    "medium[\"EX_Hext\"] = 2\n",
    "medium[\"EX_Dext\"] = 0.0\n",
    "medium[\"EX_Eext\"] = 0.0\n",
    "model.medium = medium\n",
    "\n",
    "model.medium"
   ]
  },
  {
   "cell_type": "code",
   "execution_count": 85,
   "metadata": {},
   "outputs": [
    {
     "name": "stderr",
     "output_type": "stream",
     "text": [
      "t = 15.000: : 571it [00:09, 60.58it/s]\n"
     ]
    },
    {
     "data": {
      "text/plain": [
       "  message: 'The solver successfully reached the end of the integration interval.'\n",
       "     nfev: 547\n",
       "     njev: 6\n",
       "      nlu: 43\n",
       "      sol: None\n",
       "   status: 0\n",
       "  success: True\n",
       "        t: array([0.000000e+00, 1.500015e-04, 3.000030e-04, ..., 1.499970e+01,\n",
       "       1.499985e+01, 1.500000e+01])\n",
       " t_events: [array([], dtype=float64)]\n",
       "        y: array([[ 1.00000000e-01,  1.00040022e-01,  1.00080080e-01, ...,\n",
       "         3.20953361e+00,  3.20953361e+00,  3.20953361e+00],\n",
       "       [ 1.00000000e+01,  9.99984992e+00,  9.99969970e+00, ...,\n",
       "        -9.93228935e-13, -9.88144591e-13, -9.83060248e-13],\n",
       "       [ 2.00000000e+00,  1.99996998e+00,  1.99993994e+00, ...,\n",
       "         6.15959299e-13,  6.15744758e-13,  6.15530218e-13]])\n",
       " y_events: [array([], dtype=float64)]"
      ]
     },
     "execution_count": 85,
     "metadata": {},
     "output_type": "execute_result"
    }
   ],
   "source": [
    "import numpy as np\n",
    "from tqdm import tqdm\n",
    "from scipy.integrate import solve_ivp\n",
    "import matplotlib.pyplot as plt\n",
    "import cobra\n",
    "%matplotlib inline\n",
    "\n",
    "def add_dynamic_bounds(model,y):\n",
    "    biomass,carbon2,h = y\n",
    "    carbon2_max_import = -carbon2\n",
    "    h_max_import = -h\n",
    "    model.reactions.EX_Carbon2.lower_bound = carbon2_max_import\n",
    "    model.reactions.EX_Hext.lower_bound = h_max_import\n",
    "    \n",
    "def dynamic_system(t,y):\n",
    "    biomass,carbon2,h = y\n",
    "    with model:\n",
    "        add_dynamic_bounds(model,y)\n",
    "        cobra.util.add_lp_feasibility(model)\n",
    "        feasibility = cobra.util.fix_objective_as_constraint(model)\n",
    "        lex_constraints = cobra.util.add_lexicographic_constraints(\n",
    "            model, ['Gro', 'EX_Carbon2','EX_Hext'], ['max', 'max','max'])\n",
    "\n",
    "    # Since the calculated fluxes are specific rates, we multiply them by the\n",
    "    # biomass concentration to get the bulk exchange rates.\n",
    "    fluxes = lex_constraints.values\n",
    "    fluxes *= biomass\n",
    "\n",
    "    # This implementation is **not** efficient, so I display the current\n",
    "    # simulation time using a progress bar.\n",
    "    if dynamic_system.pbar is not None:\n",
    "        dynamic_system.pbar.update(1)\n",
    "        dynamic_system.pbar.set_description('t = {:.3f}'.format(t))\n",
    "\n",
    "    return fluxes\n",
    "\n",
    "dynamic_system.pbar = None\n",
    "\n",
    "\n",
    "def infeasible_event(t, y):\n",
    "    \"\"\"\n",
    "    Determine solution feasibility.\n",
    "\n",
    "    Avoiding infeasible solutions is handled by solve_ivp's built-in event detection.\n",
    "    This function re-solves the LP to determine whether or not the solution is feasible\n",
    "    (and if not, how far it is from feasibility). When the sign of this function changes\n",
    "    from -epsilon to positive, we know the solution is no longer feasible.\n",
    "\n",
    "    \"\"\"\n",
    "\n",
    "    with model:\n",
    "\n",
    "        add_dynamic_bounds(model, y)\n",
    "\n",
    "        cobra.util.add_lp_feasibility(model)\n",
    "        feasibility = cobra.util.fix_objective_as_constraint(model)\n",
    "\n",
    "    return feasibility - infeasible_event.epsilon\n",
    "\n",
    "infeasible_event.epsilon = 1E-6\n",
    "infeasible_event.direction = 1\n",
    "infeasible_event.terminal = True \n",
    "\n",
    "\n",
    "ts = np.linspace(0, 15, 100000)  # Desired integration resolution and interval\n",
    "y0 = [0.1,10,2]\n",
    "\n",
    "with tqdm() as pbar:\n",
    "    dynamic_system.pbar = pbar\n",
    "\n",
    "    sol = solve_ivp(\n",
    "        fun=dynamic_system,\n",
    "        events=[infeasible_event],\n",
    "        t_span=(ts.min(), ts.max()),\n",
    "        y0=y0,\n",
    "        t_eval=ts,\n",
    "        rtol=1e-6,\n",
    "        atol=1e-8,\n",
    "        method='BDF'\n",
    "    )\n",
    "    \n",
    "sol"
   ]
  },
  {
   "cell_type": "code",
   "execution_count": 86,
   "metadata": {},
   "outputs": [
    {
     "data": {
      "image/png": "[encoded data removed]",
      "text/plain": [
       "<Figure size 432x288 with 1 Axes>"
      ]
     },
     "metadata": {
      "needs_background": "light"
     },
     "output_type": "display_data"
    }
   ],
   "source": [
    "import matplotlib.pyplot as plt\n",
    "plt.plot(sol.t, sol.y.T[:, 0],label='Biomass',color='b')\n",
    "plt.plot(sol.t, sol.y.T[:, 1],label='Carbon2',color='r',linestyle = 'solid',linewidth = 1)\n",
    "plt.plot(sol.t, sol.y.T[:, 2],label='H',color='g',linestyle='dotted',linewidth = 2)\n",
    "plt.xlabel('Time')\n",
    "plt.ylabel('Concentration')\n",
    "plt.legend()\n",
    "plt.title('Growth on carbon2 and amino acid(H) with carbon2 in excess')\n",
    "plt.show()\n"
   ]
  },
  {
   "cell_type": "markdown",
   "metadata": {},
   "source": [
    "# Growth on Carbon and Amino acid with amino acid in excess"
   ]
  },
  {
   "cell_type": "code",
   "execution_count": 87,
   "metadata": {},
   "outputs": [
    {
     "data": {
      "text/plain": [
       "{'EX_Carbon2': 5.0, 'EX_Oxygen': 1000.0, 'EX_Hext': 10.0}"
      ]
     },
     "execution_count": 87,
     "metadata": {},
     "output_type": "execute_result"
    }
   ],
   "source": [
    "medium = model.medium\n",
    "medium[\"EX_Carbon1\"] = 0\n",
    "medium[\"EX_Carbon2\"] = 5.0\n",
    "medium[\"EX_Fext\"] = 0.0\n",
    "medium[\"EX_Hext\"] = 10.0\n",
    "medium[\"EX_Dext\"] = 0.0\n",
    "medium[\"EX_Eext\"] = 0.0\n",
    "model.medium = medium\n",
    "\n",
    "model.medium"
   ]
  },
  {
   "cell_type": "code",
   "execution_count": 88,
   "metadata": {},
   "outputs": [
    {
     "name": "stderr",
     "output_type": "stream",
     "text": [
      "t = 15.000: : 627it [00:10, 60.34it/s]\n"
     ]
    },
    {
     "data": {
      "text/plain": [
       "  message: 'The solver successfully reached the end of the integration interval.'\n",
       "     nfev: 602\n",
       "     njev: 6\n",
       "      nlu: 46\n",
       "      sol: None\n",
       "   status: 0\n",
       "  success: True\n",
       "        t: array([0.000000e+00, 1.500015e-04, 3.000030e-04, ..., 1.499970e+01,\n",
       "       1.499985e+01, 1.500000e+01])\n",
       " t_events: [array([], dtype=float64)]\n",
       "        y: array([[1.00000000e-01, 1.00034149e-01, 1.00068333e-01, ...,\n",
       "        3.98436893e+00, 3.98436893e+00, 3.98436893e+00],\n",
       "       [5.00000000e+00, 4.99992497e+00, 4.99984986e+00, ...,\n",
       "        1.56012335e-07, 1.56012334e-07, 1.56012333e-07],\n",
       "       [1.00000000e+01, 9.99992497e+00, 9.99984986e+00, ...,\n",
       "        4.24080017e-07, 4.24080015e-07, 4.24080012e-07]])\n",
       " y_events: [array([], dtype=float64)]"
      ]
     },
     "execution_count": 88,
     "metadata": {},
     "output_type": "execute_result"
    }
   ],
   "source": [
    "import numpy as np\n",
    "from tqdm import tqdm\n",
    "from scipy.integrate import solve_ivp\n",
    "import matplotlib.pyplot as plt\n",
    "import cobra\n",
    "%matplotlib inline\n",
    "\n",
    "def add_dynamic_bounds(model,y):\n",
    "    biomass,carbon2,h = y\n",
    "    carbon2_max_import = -carbon2\n",
    "    h_max_import = -h\n",
    "    model.reactions.EX_Carbon2.lower_bound = carbon2_max_import\n",
    "    model.reactions.EX_Hext.lower_bound = h_max_import\n",
    "    \n",
    "def dynamic_system(t,y):\n",
    "    biomass,carbon2,h = y\n",
    "    with model:\n",
    "        add_dynamic_bounds(model,y)\n",
    "        cobra.util.add_lp_feasibility(model)\n",
    "        feasibility = cobra.util.fix_objective_as_constraint(model)\n",
    "        lex_constraints = cobra.util.add_lexicographic_constraints(\n",
    "            model, ['Gro', 'EX_Carbon2','EX_Hext'], ['max', 'max','max'])\n",
    "\n",
    "    # Since the calculated fluxes are specific rates, we multiply them by the\n",
    "    # biomass concentration to get the bulk exchange rates.\n",
    "    fluxes = lex_constraints.values\n",
    "    fluxes *= biomass\n",
    "\n",
    "    # This implementation is **not** efficient, so I display the current\n",
    "    # simulation time using a progress bar.\n",
    "    if dynamic_system.pbar is not None:\n",
    "        dynamic_system.pbar.update(1)\n",
    "        dynamic_system.pbar.set_description('t = {:.3f}'.format(t))\n",
    "\n",
    "    return fluxes\n",
    "\n",
    "dynamic_system.pbar = None\n",
    "\n",
    "\n",
    "def infeasible_event(t, y):\n",
    "    \"\"\"\n",
    "    Determine solution feasibility.\n",
    "\n",
    "    Avoiding infeasible solutions is handled by solve_ivp's built-in event detection.\n",
    "    This function re-solves the LP to determine whether or not the solution is feasible\n",
    "    (and if not, how far it is from feasibility). When the sign of this function changes\n",
    "    from -epsilon to positive, we know the solution is no longer feasible.\n",
    "\n",
    "    \"\"\"\n",
    "\n",
    "    with model:\n",
    "\n",
    "        add_dynamic_bounds(model, y)\n",
    "\n",
    "        cobra.util.add_lp_feasibility(model)\n",
    "        feasibility = cobra.util.fix_objective_as_constraint(model)\n",
    "\n",
    "    return feasibility - infeasible_event.epsilon\n",
    "\n",
    "infeasible_event.epsilon = 1E-6\n",
    "infeasible_event.direction = 1\n",
    "infeasible_event.terminal = True \n",
    "\n",
    "\n",
    "ts = np.linspace(0, 15, 100000)  # Desired integration resolution and interval\n",
    "y0 = [0.1,5,10]\n",
    "\n",
    "with tqdm() as pbar:\n",
    "    dynamic_system.pbar = pbar\n",
    "\n",
    "    sol = solve_ivp(\n",
    "        fun=dynamic_system,\n",
    "        events=[infeasible_event],\n",
    "        t_span=(ts.min(), ts.max()),\n",
    "        y0=y0,\n",
    "        t_eval=ts,\n",
    "        rtol=1e-6,\n",
    "        atol=1e-8,\n",
    "        method='BDF'\n",
    "    )\n",
    "    \n",
    "sol"
   ]
  },
  {
   "cell_type": "code",
   "execution_count": 89,
   "metadata": {},
   "outputs": [
    {
     "data": {
      "image/png": "[encoded data removed]",
      "text/plain": [
       "<Figure size 432x288 with 1 Axes>"
      ]
     },
     "metadata": {
      "needs_background": "light"
     },
     "output_type": "display_data"
    }
   ],
   "source": [
    "import matplotlib.pyplot as plt\n",
    "plt.plot(sol.t, sol.y.T[:, 0],label='Biomass',color='b')\n",
    "plt.plot(sol.t, sol.y.T[:, 1],label='Carbon2',color='r',linestyle = 'solid',linewidth = 1)\n",
    "plt.plot(sol.t, sol.y.T[:, 2],label='H',color='g',linestyle='dotted',linewidth = 2)\n",
    "plt.xlabel('Time')\n",
    "plt.ylabel('Concentration')\n",
    "plt.legend()\n",
    "plt.title('Growth on carbon2 and amino acid(H) with carbon2 in excess')\n",
    "plt.show()\n"
   ]
  },
  {
   "cell_type": "markdown",
   "metadata": {},
   "source": [
    "# Anaerobic Growth with Carbon2"
   ]
  },
  {
   "cell_type": "code",
   "execution_count": 90,
   "metadata": {},
   "outputs": [
    {
     "data": {
      "text/plain": [
       "{'EX_Carbon2': 10.0}"
      ]
     },
     "execution_count": 90,
     "metadata": {},
     "output_type": "execute_result"
    }
   ],
   "source": [
    "medium = model.medium\n",
    "medium[\"EX_Carbon1\"] = 0\n",
    "medium[\"EX_Carbon2\"] = 10.0\n",
    "medium[\"EX_Fext\"] = 0.0\n",
    "medium[\"EX_Hext\"] = 0.0\n",
    "medium[\"EX_Dext\"] = 0.0\n",
    "medium[\"EX_Eext\"] = 0.0\n",
    "medium[\"EX_Oxygen\"] = 0.0\n",
    "model.medium = medium\n",
    "\n",
    "model.medium"
   ]
  },
  {
   "cell_type": "code",
   "execution_count": 91,
   "metadata": {},
   "outputs": [
    {
     "name": "stderr",
     "output_type": "stream",
     "text": [
      "t = 15.000: : 363it [00:05, 61.89it/s]\n"
     ]
    },
    {
     "data": {
      "text/plain": [
       "  message: 'The solver successfully reached the end of the integration interval.'\n",
       "     nfev: 357\n",
       "     njev: 2\n",
       "      nlu: 29\n",
       "      sol: None\n",
       "   status: 0\n",
       "  success: True\n",
       "        t: array([0.000000e+00, 1.500015e-04, 3.000030e-04, ..., 1.499970e+01,\n",
       "       1.499985e+01, 1.500000e+01])\n",
       " t_events: [array([], dtype=float64)]\n",
       "        y: array([[1.00000000e-01, 1.00017650e-01, 1.00035310e-01, ...,\n",
       "        1.27647052e+00, 1.27647052e+00, 1.27647052e+00],\n",
       "       [1.00000000e+01, 9.99984998e+00, 9.99969986e+00, ...,\n",
       "        6.22178087e-07, 6.22058968e-07, 6.21939871e-07]])\n",
       " y_events: [array([], dtype=float64)]"
      ]
     },
     "execution_count": 91,
     "metadata": {},
     "output_type": "execute_result"
    }
   ],
   "source": [
    "import numpy as np\n",
    "from tqdm import tqdm\n",
    "from scipy.integrate import solve_ivp\n",
    "import matplotlib.pyplot as plt\n",
    "import cobra\n",
    "%matplotlib inline\n",
    "\n",
    "def add_dynamic_bounds(model,y):\n",
    "    biomass, carbon2 = y\n",
    "    carbon2_max_import = -carbon2\n",
    "    model.reactions.EX_Carbon2.lower_bound = carbon2_max_import\n",
    "    \n",
    "def dynamic_system(t,y):\n",
    "    biomass, carbon2 = y\n",
    "    with model:\n",
    "        add_dynamic_bounds(model,y)\n",
    "        cobra.util.add_lp_feasibility(model)\n",
    "        feasibility = cobra.util.fix_objective_as_constraint(model)\n",
    "        lex_constraints = cobra.util.add_lexicographic_constraints(\n",
    "            model, ['Gro','EX_Carbon2'], [ 'max','max'])\n",
    "\n",
    "    # Since the calculated fluxes are specific rates, we multiply them by the\n",
    "    # biomass concentration to get the bulk exchange rates.\n",
    "    fluxes = lex_constraints.values\n",
    "    fluxes *= biomass\n",
    "\n",
    "    # This implementation is **not** efficient, so I display the current\n",
    "    # simulation time using a progress bar.\n",
    "    if dynamic_system.pbar is not None:\n",
    "        dynamic_system.pbar.update(1)\n",
    "        dynamic_system.pbar.set_description('t = {:.3f}'.format(t))\n",
    "\n",
    "    return fluxes\n",
    "\n",
    "dynamic_system.pbar = None\n",
    "\n",
    "\n",
    "def infeasible_event(t, y):\n",
    "    \"\"\"\n",
    "    Determine solution feasibility.\n",
    "\n",
    "    Avoiding infeasible solutions is handled by solve_ivp's built-in event detection.\n",
    "    This function re-solves the LP to determine whether or not the solution is feasible\n",
    "    (and if not, how far it is from feasibility). When the sign of this function changes\n",
    "    from -epsilon to positive, we know the solution is no longer feasible.\n",
    "\n",
    "    \"\"\"\n",
    "\n",
    "    with model:\n",
    "\n",
    "        add_dynamic_bounds(model, y)\n",
    "\n",
    "        cobra.util.add_lp_feasibility(model)\n",
    "        feasibility = cobra.util.fix_objective_as_constraint(model)\n",
    "\n",
    "    return feasibility - infeasible_event.epsilon\n",
    "\n",
    "infeasible_event.epsilon = 1E-6\n",
    "infeasible_event.direction = 1\n",
    "infeasible_event.terminal = True \n",
    "\n",
    "ts = np.linspace(0, 15, 100000)  # Desired integration resolution and interval\n",
    "y0 = [0.1,10]\n",
    "\n",
    "with tqdm() as pbar:\n",
    "    dynamic_system.pbar = pbar\n",
    "\n",
    "    sol = solve_ivp(\n",
    "        fun=dynamic_system,\n",
    "        events=[infeasible_event],\n",
    "        t_span=(ts.min(), ts.max()),\n",
    "        y0=y0,\n",
    "        t_eval=ts,\n",
    "        rtol=1e-6,\n",
    "        atol=1e-8,\n",
    "        method='BDF'\n",
    "    )\n",
    "    \n",
    "sol"
   ]
  },
  {
   "cell_type": "code",
   "execution_count": 92,
   "metadata": {},
   "outputs": [
    {
     "data": {
      "image/png": "[encoded data removed]",
      "text/plain": [
       "<Figure size 432x288 with 1 Axes>"
      ]
     },
     "metadata": {
      "needs_background": "light"
     },
     "output_type": "display_data"
    }
   ],
   "source": [
    "import matplotlib.pyplot as plt\n",
    "plt.plot(sol.t, sol.y.T[:, 0],label='Biomass',color='b')\n",
    "plt.plot(sol.t, sol.y.T[:, 1],label='Carbon2',color='r',linestyle = 'solid',linewidth = 1)\n",
    "plt.xlabel('Time')\n",
    "plt.ylabel('Concentration')\n",
    "plt.legend()\n",
    "plt.title('Anaerobic growth on carbon2')\n",
    "plt.show()"
   ]
  },
  {
   "cell_type": "markdown",
   "metadata": {},
   "source": [
    "# Growth in a complex medium"
   ]
  },
  {
   "cell_type": "code",
   "execution_count": 93,
   "metadata": {},
   "outputs": [
    {
     "data": {
      "text/plain": [
       "{'EX_Carbon1': 1,\n",
       " 'EX_Carbon2': 10.0,\n",
       " 'EX_Oxygen': 1000.0,\n",
       " 'EX_Fext': 0.1,\n",
       " 'EX_Hext': 2.5}"
      ]
     },
     "execution_count": 93,
     "metadata": {},
     "output_type": "execute_result"
    }
   ],
   "source": [
    "medium = model.medium\n",
    "medium[\"EX_Carbon1\"] = 1\n",
    "medium[\"EX_Carbon2\"] = 10.0\n",
    "medium[\"EX_Fext\"] = 0.1\n",
    "medium[\"EX_Hext\"] = 2.5\n",
    "medium[\"EX_Dext\"] = 0.0\n",
    "medium[\"EX_Eext\"] = 0.0\n",
    "medium[\"EX_Oxygen\"] = 1000.0\n",
    "model.medium = medium\n",
    "\n",
    "model.medium"
   ]
  },
  {
   "cell_type": "code",
   "execution_count": 94,
   "metadata": {},
   "outputs": [
    {
     "name": "stderr",
     "output_type": "stream",
     "text": [
      "t = 15.000: : 615it [00:11, 55.83it/s]\n"
     ]
    },
    {
     "data": {
      "text/plain": [
       "  message: 'The solver successfully reached the end of the integration interval.'\n",
       "     nfev: 573\n",
       "     njev: 7\n",
       "      nlu: 48\n",
       "      sol: None\n",
       "   status: 0\n",
       "  success: True\n",
       "        t: array([0.000000e+00, 1.500015e-04, 3.000030e-04, ..., 1.499970e+01,\n",
       "       1.499985e+01, 1.500000e+01])\n",
       " t_events: [array([], dtype=float64)]\n",
       "        y: array([[1.00000000e-01, 1.00042371e-01, 1.00084786e-01, ...,\n",
       "        3.55784386e+00, 3.55784386e+00, 3.55784386e+00],\n",
       "       [1.00000000e+00, 9.99984992e-01, 9.99969968e-01, ...,\n",
       "        1.79518355e-07, 1.79518355e-07, 1.79518355e-07],\n",
       "       [1.00000000e+01, 9.99984992e+00, 9.99969968e+00, ...,\n",
       "        1.79518355e-06, 1.79518355e-06, 1.79518355e-06],\n",
       "       [1.00000000e-01, 9.99984992e-02, 9.99969968e-02, ...,\n",
       "        1.79518355e-08, 1.79518355e-08, 1.79518355e-08],\n",
       "       [2.50000000e+00, 2.49996248e+00, 2.49992492e+00, ...,\n",
       "        4.48795887e-07, 4.48795887e-07, 4.48795887e-07]])\n",
       " y_events: [array([], dtype=float64)]"
      ]
     },
     "execution_count": 94,
     "metadata": {},
     "output_type": "execute_result"
    }
   ],
   "source": [
    "import numpy as np\n",
    "from tqdm import tqdm\n",
    "from scipy.integrate import solve_ivp\n",
    "import matplotlib.pyplot as plt\n",
    "import cobra\n",
    "%matplotlib inline\n",
    "\n",
    "def add_dynamic_bounds(model,y):\n",
    "    biomass, carbon1,carbon2,f,h = y\n",
    "    carbon2_max_import = -carbon2\n",
    "    model.reactions.EX_Carbon2.lower_bound = carbon2_max_import\n",
    "    carbon1_max_import = -carbon1\n",
    "    model.reactions.EX_Carbon1.lower_bound = carbon1_max_import\n",
    "    f_max_import = -f\n",
    "    model.reactions.EX_Fext.lower_bound = f_max_import\n",
    "    h_max_import = -h\n",
    "    model.reactions.EX_Hext.lower_bound = h_max_import\n",
    "    \n",
    "    \n",
    "def dynamic_system(t,y):\n",
    "    biomass, carbon1,carbon2,f,h = y\n",
    "    with model:\n",
    "        add_dynamic_bounds(model,y)\n",
    "        cobra.util.add_lp_feasibility(model)\n",
    "        feasibility = cobra.util.fix_objective_as_constraint(model)\n",
    "        lex_constraints = cobra.util.add_lexicographic_constraints(\n",
    "            model, ['Gro','EX_Carbon1','EX_Carbon2','EX_Fext','EX_Hext'], [ 'max','max','max','max','max','max'])\n",
    "\n",
    "    # Since the calculated fluxes are specific rates, we multiply them by the\n",
    "    # biomass concentration to get the bulk exchange rates.\n",
    "    fluxes = lex_constraints.values\n",
    "    fluxes *= biomass\n",
    "\n",
    "    # This implementation is **not** efficient, so I display the current\n",
    "    # simulation time using a progress bar.\n",
    "    if dynamic_system.pbar is not None:\n",
    "        dynamic_system.pbar.update(1)\n",
    "        dynamic_system.pbar.set_description('t = {:.3f}'.format(t))\n",
    "\n",
    "    return fluxes\n",
    "\n",
    "dynamic_system.pbar = None\n",
    "\n",
    "\n",
    "def infeasible_event(t, y):\n",
    "    \"\"\"\n",
    "    Determine solution feasibility.\n",
    "\n",
    "    Avoiding infeasible solutions is handled by solve_ivp's built-in event detection.\n",
    "    This function re-solves the LP to determine whether or not the solution is feasible\n",
    "    (and if not, how far it is from feasibility). When the sign of this function changes\n",
    "    from -epsilon to positive, we know the solution is no longer feasible.\n",
    "\n",
    "    \"\"\"\n",
    "\n",
    "    with model:\n",
    "\n",
    "        add_dynamic_bounds(model, y)\n",
    "\n",
    "        cobra.util.add_lp_feasibility(model)\n",
    "        feasibility = cobra.util.fix_objective_as_constraint(model)\n",
    "\n",
    "    return feasibility - infeasible_event.epsilon\n",
    "\n",
    "infeasible_event.epsilon = 1E-6\n",
    "infeasible_event.direction = 1\n",
    "infeasible_event.terminal = True \n",
    "\n",
    "ts = np.linspace(0, 15, 100000)  # Desired integration resolution and interval\n",
    "y0 = [0.1,1,10,0.1,2.5]\n",
    "\n",
    "with tqdm() as pbar:\n",
    "    dynamic_system.pbar = pbar\n",
    "\n",
    "    sol = solve_ivp(\n",
    "        fun=dynamic_system,\n",
    "        events=[infeasible_event],\n",
    "        t_span=(ts.min(), ts.max()),\n",
    "        y0=y0,\n",
    "        t_eval=ts,\n",
    "        rtol=1e-6,\n",
    "        atol=1e-8,\n",
    "        method='BDF'\n",
    "    )\n",
    "    \n",
    "sol"
   ]
  },
  {
   "cell_type": "code",
   "execution_count": 98,
   "metadata": {},
   "outputs": [
    {
     "data": {
      "image/png": "[encoded data removed]",
      "text/plain": [
       "<Figure size 432x288 with 1 Axes>"
      ]
     },
     "metadata": {
      "needs_background": "light"
     },
     "output_type": "display_data"
    }
   ],
   "source": [
    "import matplotlib.pyplot as plt\n",
    "plt.plot(sol.t, sol.y.T[:, 0],label='Biomass',color='b')\n",
    "plt.plot(sol.t, sol.y.T[:, 1],label='Carbon1',color='r',linestyle = 'solid',linewidth = 1)\n",
    "plt.plot(sol.t, sol.y.T[:, 2],label='Carbon2',color='m',linestyle = 'solid',linewidth = 1)\n",
    "plt.plot(sol.t, sol.y.T[:, 3],label='F',color='g',linestyle = 'dotted',linewidth = 3)\n",
    "plt.plot(sol.t, sol.y.T[:, 3],label='H',color='r',linestyle = 'solid',linewidth = 1)\n",
    "plt.xlabel('Time')\n",
    "plt.ylabel('Concentration')\n",
    "plt.legend()\n",
    "plt.title('Growth in Complex Medium')\n",
    "plt.show()"
   ]
  },
  {
   "cell_type": "code",
   "execution_count": null,
   "metadata": {},
   "outputs": [],
   "source": []
  }
 ],
 "metadata": {
  "kernelspec": {
   "display_name": "Python 3",
   "language": "python",
   "name": "python3"
  },
  "language_info": {
   "codemirror_mode": {
    "name": "ipython",
    "version": 3
   },
   "file_extension": ".py",
   "mimetype": "text/x-python",
   "name": "python",
   "nbconvert_exporter": "python",
   "pygments_lexer": "ipython3",
   "version": "3.8.3"
  }
 },
 "nbformat": 4,
 "nbformat_minor": 5
}
